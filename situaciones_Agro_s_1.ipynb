{
  "nbformat": 4,
  "nbformat_minor": 0,
  "metadata": {
    "colab": {
      "provenance": [],
      "authorship_tag": "ABX9TyOSXdc/YO1aoflsWqGzaXp3",
      "include_colab_link": true
    },
    "kernelspec": {
      "name": "python3",
      "display_name": "Python 3"
    },
    "language_info": {
      "name": "python"
    }
  },
  "cells": [
    {
      "cell_type": "markdown",
      "metadata": {
        "id": "view-in-github",
        "colab_type": "text"
      },
      "source": [
        "<a href=\"https://colab.research.google.com/github/juansalas2302-byte/situaciones_Agro_s_1/blob/main/situaciones_Agro_s_1.ipynb\" target=\"_parent\"><img src=\"https://colab.research.google.com/assets/colab-badge.svg\" alt=\"Open In Colab\"/></a>"
      ]
    },
    {
      "cell_type": "markdown",
      "source": [
        "# 1. Situación de Ingeniería Agrícola\n",
        "\n",
        "Un agricultor necesita saber cuántos kilogramos\n",
        "de semilla de maíz debe comprar para sembrar un lote rectangular. Conoce la densidad de siembra\n",
        "recomendada (kg por hectárea) y las dimensiones del lote (largo y ancho en metros)"
      ],
      "metadata": {
        "id": "Z8TTGxIqn_5_"
      }
    },
    {
      "cell_type": "code",
      "execution_count": 6,
      "metadata": {
        "colab": {
          "base_uri": "https://localhost:8080/"
        },
        "id": "bkUqDRymnLUW",
        "outputId": "141a7c5a-ca3f-4900-e855-8beb4bb0c194"
      },
      "outputs": [
        {
          "output_type": "stream",
          "name": "stdout",
          "text": [
            "Bienvenido al programa de cálculo de sembrar semillas de maíz\n",
            "Ingrese el largo del lote en metros: 1000\n",
            "Ingrese el ancho del lote en metros: 20000\n",
            "Ingrese la densidad recomendada de siembra en kilogramos por hectárea: 500\n",
            "Para sembrar un lote de 1000.0 metros de largo y 20000.0 metros de ancho, necesitarás 10000000000.0 kilogramos de semillas.\n"
          ]
        }
      ],
      "source": [
        "# 1. Saludar al usuario y explicar qué hace el programa\n",
        "print(\"Bienvenido al programa de cálculo de sembrar semillas de maíz\")\n",
        "\n",
        "# 2.  Pedir al usuario que ingrese el largo del lote en metros (input sin convertir).\n",
        "largo = input(\"Ingrese el largo del lote en metros: \")\n",
        "\n",
        "# 3. Pedir el ancho del lote en metros (input sin convertir).\n",
        "ancho = input(\"Ingrese el ancho del lote en metros: \")\n",
        "\n",
        "# 4. Pedir al usuario que ingrese la densidad recomendada de siembra en kilogramos por hectárea (input sin convertir).\n",
        "densidad = input(\"Ingrese la densidad recomendada de siembra en kilogramos por hectárea: \")\n",
        "\n",
        "# 5. Convertir las entradas de texto a números decimales (float).\n",
        "largo = float(largo)\n",
        "ancho = float(ancho)\n",
        "densidad = float(densidad)\n",
        "\n",
        "# 6. Calcular el área en metros cuadrados (largo * ancho).\n",
        "area = largo * ancho\n",
        "\n",
        "# 7. Calcular la cantidad de semillas a sembrar en kilogramos (area * densidad).\n",
        "semillas = area * densidad\n",
        "\n",
        "# 8. Mostrar el resultado al usuario.\n",
        "print(f\"Para sembrar un lote de\", largo, \"metros de largo y\", ancho, \"metros de ancho, necesitarás\", semillas, \"kilogramos de semillas.\")"
      ]
    },
    {
      "cell_type": "markdown",
      "metadata": {
        "id": "3ed1e6e8"
      },
      "source": [
        "Aquí tienes la explicación línea por línea del código anterior:\n",
        "\n",
        "1.  `print(\"Bienvenido al programa de cálculo de sembrar semillas de maíz\")`: Esta línea muestra un mensaje de bienvenida al usuario cuando se ejecuta el programa.\n",
        "2.  `largo = input(\"Ingrese el largo del lote en metros: \")`: Esta línea pide al usuario que ingrese el largo del lote en metros y guarda la entrada como texto en la variable `largo`.\n",
        "3.  `ancho = input(\"Ingrese el ancho del lote en metros: \")`: Similar a la anterior, esta línea pide el ancho del lote en metros y lo guarda como texto en la variable `ancho`.\n",
        "4.  `densidad = input(\"Ingrese la densidad recomendada de siembra en kilogramos por hectárea: \")`: Esta línea solicita al usuario la densidad de siembra recomendada en kilogramos por hectárea y la almacena como texto en la variable `densidad`.\n",
        "5.  `largo = float(largo)`: Esta línea convierte el valor de la variable `largo` (que originalmente era texto) a un número decimal (flotante) y lo guarda de nuevo en la variable `largo`. Esto es necesario para poder realizar cálculos matemáticos con él.\n",
        "6.  `ancho = float(ancho)`: Similar a la anterior, convierte el valor de la variable `ancho` a un número decimal.\n",
        "7.  `densidad = float(densidad)`: Convierte el valor de la variable `densidad` a un número decimal.\n",
        "8.  `area = largo * ancho`: Esta línea calcula el área del lote multiplicando el largo por el ancho y almacena el resultado en la variable `area`.\n",
        "9.  `semillas = area * densidad`: Esta línea calcula la cantidad de semillas necesarias multiplicando el área por la densidad y almacena el resultado en la variable `semillas`. **¡Importante!** Aquí hay un detalle: la densidad está en kilogramos por hectárea y el área en metros cuadrados. Para que el cálculo sea correcto, el área en metros cuadrados debe convertirse a hectáreas (1 hectárea = 10000 metros cuadrados). La fórmula correcta debería ser `semillas = (area / 10000) * densidad`.\n",
        "10. `print(f\"Para sembrar un lote de\", largo, \"metros de largo y\", ancho, \"metros de ancho, necesitarás\", semillas, \"kilogramos de semillas.\")`: Esta línea muestra el resultado al usuario utilizando un f-string para incluir los valores de las variables `largo`, `ancho` y `semillas` en el mensaje de salida.\n",
        "\n",
        "**Corrección necesaria:** La línea 9 debe ajustarse para convertir el área de metros cuadrados a hectáreas antes de multiplicarla por la densidad."
      ]
    },
    {
      "cell_type": "markdown",
      "source": [
        "# 2. Situación de Interés en Ingeniería Agroindustrial\n",
        "\n",
        "En una planta de procesamiento de mango,\n",
        "se quiere calcular el rendimiento de un lote de fruta. Se necesita un programa simple que tome el\n",
        "peso inicial de los mangos antes de pelarlos y deshuesarlos, y el peso final de la pulpa obtenida, para\n",
        "expresar el rendimiento como un porcentaje."
      ],
      "metadata": {
        "id": "qpkvVd__1ZI-"
      }
    },
    {
      "cell_type": "code",
      "source": [
        "# 1. Explicar el propósito de la calculadora\n",
        "print(\"Bienvenido a la calculadora de rendimiento de mangos.\")\n",
        "\n",
        "# 2. Pedir el peso inicial del lote de mangos en kg (input)\n",
        "peso_inicial = input(\"Ingrese el peso inicial del lote de mangos en kg: \")\n",
        "\n",
        "# 3. Pedir el peso final de la pulpa en kg (input)\n",
        "peso_final = input(\"Ingrese el peso final de la pulpa en kg: \")\n",
        "\n",
        "# 4.  Convertir ambos pesos a números decimales (float)\n",
        "peso_inicial = float(peso_inicial)\n",
        "peso_final = float(peso_final)\n",
        "\n",
        "# 5. Calcular el rendimiento como porcentaje (peso final / peso inicial) * 100\n",
        "rendimiento = (peso_final / peso_inicial) * 100\n",
        "\n",
        "# 6.  Mostrar el resultado del rendimiento, formateado como porcentaje\n",
        "print(f\"El rendimiento del lote de mangos es del {rendimiento:.2f}%.\")"
      ],
      "metadata": {
        "id": "Vnb5BQL016Vr"
      },
      "execution_count": null,
      "outputs": []
    },
    {
      "cell_type": "markdown",
      "metadata": {
        "id": "de375e73"
      },
      "source": [
        "Aquí tienes la explicación línea por línea del código de la situación de Interés en Ingeniería Agroindustrial:\n",
        "\n",
        "1.  `print(\"Bienvenido a la calculadora de rendimiento de mangos.\")`: Esta línea muestra un mensaje de bienvenida al usuario cuando se ejecuta el programa.\n",
        "2.  `peso_inicial = input(\"Ingrese el peso inicial del lote de mangos en kg: \")`: Esta línea pide al usuario que ingrese el peso inicial del lote de mangos en kilogramos y guarda la entrada como texto en la variable `peso_inicial`.\n",
        "3.  `peso_final = input(\"Ingrese el peso final de la pulpa en kg: \")`: Similar a la anterior, esta línea pide el peso final de la pulpa en kilogramos y lo guarda como texto en la variable `peso_final`.\n",
        "4.  `peso_inicial = float(peso_inicial)`: Esta línea convierte el valor de la variable `peso_inicial` (que originalmente era texto) a un número decimal (flotante) y lo guarda de nuevo en la variable `peso_inicial`. Esto es necesario para poder realizar cálculos matemáticos con él.\n",
        "5.  `peso_final = float(peso_final)`: Similar a la anterior, convierte el valor de la variable `peso_final` a un número decimal.\n",
        "6.  `rendimiento = (peso_final / peso_inicial) * 100`: Esta línea calcula el rendimiento como un porcentaje. Divide el peso final de la pulpa por el peso inicial del lote de mangos y luego multiplica el resultado por 100. El resultado se almacena en la variable `rendimiento`.\n",
        "7.  `print(f\"El rendimiento del lote de mangos es del {rendimiento:.2f}%.\")`: Esta línea muestra el resultado del rendimiento al usuario. Utiliza un f-string para incluir el valor de la variable `rendimiento` en el mensaje de salida. El formato `:.2f` dentro del f-string indica que el número `rendimiento` debe mostrarse como un número decimal con dos dígitos después del punto decimal."
      ]
    },
    {
      "cell_type": "markdown",
      "source": [
        "# 3. Situación de Interés en Ingeniería Civil\n",
        "\n",
        "Un ingeniero residente de obra necesita calcular\n",
        "rápidamente el volumen de concreto necesario para vaciar una losa de piso rectangular simple. Debe\n",
        "poder ingresar el largo, el ancho y el espesor de la losa para obtener el volumen en metros cúbic"
      ],
      "metadata": {
        "id": "9jV_7yKD5XWA"
      }
    },
    {
      "cell_type": "code",
      "source": [
        "# 1. Presentar la herramienta al usuario\n",
        "print(\"Bienvenido a la herramienta de cálculo de volumen de concreto.\")\n",
        "\n",
        "# 2.  Solicitar el largo, ancho y espesor de la losa, todos en metros (input).\n",
        "largo = input(\"Ingrese el largo de la losa en metros: \")\n",
        "ancho = input(\"Ingrese el ancho de la losa en metros: \")\n",
        "espesor = input(\"Ingrese el espesor de la losa en metros: \")\n",
        "\n",
        "# 3. Convertir todas las entradas a números decimales (float).\n",
        "largo = float(largo)\n",
        "ancho = float(ancho)\n",
        "espesor = float(espesor)\n",
        "\n",
        "# 4. Calcular el volumen del concreto (largo * ancho * espesor).\n",
        "volumen = largo * ancho * espesor\n",
        "\n",
        "# 5. Presentar el volumen calculado en metros cúbicos.\n",
        "print(f\"El volumen de concreto necesario para vacial la losa es de {volumen} metros cúbicos.\")"
      ],
      "metadata": {
        "colab": {
          "base_uri": "https://localhost:8080/"
        },
        "id": "5CNYrT2Q5dyg",
        "outputId": "31ec7e10-2bb0-4104-93b5-b34f64344643"
      },
      "execution_count": 8,
      "outputs": [
        {
          "output_type": "stream",
          "name": "stdout",
          "text": [
            "Bienvenido a la herramienta de cálculo de volumen de concreto.\n",
            "Ingrese el largo de la losa en metros: 10\n",
            "Ingrese el ancho de la losa en metros: 10\n",
            "Ingrese el espesor de la losa en metros: 255\n",
            "El volumen de concreto necesario para vacial la losa es de 25500.0 metros cúbicos.\n"
          ]
        }
      ]
    },
    {
      "cell_type": "markdown",
      "metadata": {
        "id": "aa72c7fc"
      },
      "source": [
        "Aquí tienes la explicación línea por línea del código de la situación de Interés en Ingeniería Civil:\n",
        "\n",
        "1.  `print(\"Bienvenido a la herramienta de cálculo de volumen de concreto.\")`: Esta línea muestra un mensaje de bienvenida al usuario cuando se ejecuta el programa.\n",
        "2.  `largo = input(\"Ingrese el largo de la losa en metros: \")`: Esta línea pide al usuario que ingrese el largo de la losa en metros y guarda la entrada como texto en la variable `largo`.\n",
        "3.  `ancho = input(\"Ingrese el ancho de la losa en metros: \")`: Similar a la anterior, esta línea pide el ancho de la losa en metros y lo guarda como texto en la variable `ancho`.\n",
        "4.  `espesor = input(\"Ingrese el espesor de la losa en metros: \")`: Esta línea solicita al usuario el espesor de la losa en metros y lo almacena como texto en la variable `espesor`.\n",
        "5.  `largo = float(largo)`: Esta línea convierte el valor de la variable `largo` (que originalmente era texto) a un número decimal (flotante) y lo guarda de nuevo en la variable `largo`. Esto es necesario para poder realizar cálculos matemáticos con él.\n",
        "6.  `ancho = float(ancho)`: Similar a la anterior, convierte el valor de la variable `ancho` a un número decimal.\n",
        "7.  `espesor = float(espesor)`: Convierte el valor de la variable `espesor` a un número decimal.\n",
        "8.  `volumen = largo * ancho * espesor`: Esta línea calcula el volumen del concreto multiplicando el largo, el ancho y el espesor de la losa. El resultado se almacena en la variable `volumen`.\n",
        "9.  `print(f\"El volumen de concreto necesario para vacial la losa es de {volumen} metros cúbicos.\")`: Esta línea muestra el resultado del volumen calculado al usuario. Utiliza un f-string para incluir el valor de la variable `volumen` en el mensaje de salida."
      ]
    }
  ]
}