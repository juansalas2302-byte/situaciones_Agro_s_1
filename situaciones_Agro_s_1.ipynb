{
  "nbformat": 4,
  "nbformat_minor": 0,
  "metadata": {
    "colab": {
      "provenance": [],
      "authorship_tag": "ABX9TyPsnnmOKe/j6IuRheoRr+ZL",
      "include_colab_link": true
    },
    "kernelspec": {
      "name": "python3",
      "display_name": "Python 3"
    },
    "language_info": {
      "name": "python"
    }
  },
  "cells": [
    {
      "cell_type": "markdown",
      "metadata": {
        "id": "view-in-github",
        "colab_type": "text"
      },
      "source": [
        "<a href=\"https://colab.research.google.com/github/juansalas2302-byte/situaciones_Agro_s_1/blob/main/situaciones_Agro_s_1.ipynb\" target=\"_parent\"><img src=\"https://colab.research.google.com/assets/colab-badge.svg\" alt=\"Open In Colab\"/></a>"
      ]
    },
    {
      "cell_type": "markdown",
      "source": [
        "# Situación de Ingeniería Agrícola\n",
        "\n",
        "Un agricultor necesita saber cuántos kilogramos\n",
        "de semilla de maíz debe comprar para sembrar un lote rectangular. Conoce la densidad de siembra\n",
        "recomendada (kg por hectárea) y las dimensiones del lote (largo y ancho en metros)"
      ],
      "metadata": {
        "id": "Z8TTGxIqn_5_"
      }
    },
    {
      "cell_type": "code",
      "execution_count": 6,
      "metadata": {
        "colab": {
          "base_uri": "https://localhost:8080/"
        },
        "id": "bkUqDRymnLUW",
        "outputId": "141a7c5a-ca3f-4900-e855-8beb4bb0c194"
      },
      "outputs": [
        {
          "output_type": "stream",
          "name": "stdout",
          "text": [
            "Bienvenido al programa de cálculo de sembrar semillas de maíz\n",
            "Ingrese el largo del lote en metros: 1000\n",
            "Ingrese el ancho del lote en metros: 20000\n",
            "Ingrese la densidad recomendada de siembra en kilogramos por hectárea: 500\n",
            "Para sembrar un lote de 1000.0 metros de largo y 20000.0 metros de ancho, necesitarás 10000000000.0 kilogramos de semillas.\n"
          ]
        }
      ],
      "source": [
        "# 1. Saludar al usuario y explicar qué hace el programa\n",
        "print(\"Bienvenido al programa de cálculo de sembrar semillas de maíz\")\n",
        "\n",
        "# 2.  Pedir al usuario que ingrese el largo del lote en metros (input sin convertir).\n",
        "largo = input(\"Ingrese el largo del lote en metros: \")\n",
        "\n",
        "# 3. Pedir el ancho del lote en metros (input sin convertir).\n",
        "ancho = input(\"Ingrese el ancho del lote en metros: \")\n",
        "\n",
        "# 4. Pedir al usuario que ingrese la densidad recomendada de siembra en kilogramos por hectárea (input sin convertir).\n",
        "densidad = input(\"Ingrese la densidad recomendada de siembra en kilogramos por hectárea: \")\n",
        "\n",
        "# 5. Convertir las entradas de texto a números decimales (float).\n",
        "largo = float(largo)\n",
        "ancho = float(ancho)\n",
        "densidad = float(densidad)\n",
        "\n",
        "# 6. Calcular el área en metros cuadrados (largo * ancho).\n",
        "area = largo * ancho\n",
        "\n",
        "# 7. Calcular la cantidad de semillas a sembrar en kilogramos (area * densidad).\n",
        "semillas = area * densidad\n",
        "\n",
        "# 8. Mostrar el resultado al usuario.\n",
        "print(f\"Para sembrar un lote de\", largo, \"metros de largo y\", ancho, \"metros de ancho, necesitarás\", semillas, \"kilogramos de semillas.\")"
      ]
    },
    {
      "cell_type": "markdown",
      "metadata": {
        "id": "3ed1e6e8"
      },
      "source": [
        "Aquí tienes la explicación línea por línea del código anterior:\n",
        "\n",
        "1.  `print(\"Bienvenido al programa de cálculo de sembrar semillas de maíz\")`: Esta línea muestra un mensaje de bienvenida al usuario cuando se ejecuta el programa.\n",
        "2.  `largo = input(\"Ingrese el largo del lote en metros: \")`: Esta línea pide al usuario que ingrese el largo del lote en metros y guarda la entrada como texto en la variable `largo`.\n",
        "3.  `ancho = input(\"Ingrese el ancho del lote en metros: \")`: Similar a la anterior, esta línea pide el ancho del lote en metros y lo guarda como texto en la variable `ancho`.\n",
        "4.  `densidad = input(\"Ingrese la densidad recomendada de siembra en kilogramos por hectárea: \")`: Esta línea solicita al usuario la densidad de siembra recomendada en kilogramos por hectárea y la almacena como texto en la variable `densidad`.\n",
        "5.  `largo = float(largo)`: Esta línea convierte el valor de la variable `largo` (que originalmente era texto) a un número decimal (flotante) y lo guarda de nuevo en la variable `largo`. Esto es necesario para poder realizar cálculos matemáticos con él.\n",
        "6.  `ancho = float(ancho)`: Similar a la anterior, convierte el valor de la variable `ancho` a un número decimal.\n",
        "7.  `densidad = float(densidad)`: Convierte el valor de la variable `densidad` a un número decimal.\n",
        "8.  `area = largo * ancho`: Esta línea calcula el área del lote multiplicando el largo por el ancho y almacena el resultado en la variable `area`.\n",
        "9.  `semillas = area * densidad`: Esta línea calcula la cantidad de semillas necesarias multiplicando el área por la densidad y almacena el resultado en la variable `semillas`. **¡Importante!** Aquí hay un detalle: la densidad está en kilogramos por hectárea y el área en metros cuadrados. Para que el cálculo sea correcto, el área en metros cuadrados debe convertirse a hectáreas (1 hectárea = 10000 metros cuadrados). La fórmula correcta debería ser `semillas = (area / 10000) * densidad`.\n",
        "10. `print(f\"Para sembrar un lote de\", largo, \"metros de largo y\", ancho, \"metros de ancho, necesitarás\", semillas, \"kilogramos de semillas.\")`: Esta línea muestra el resultado al usuario utilizando un f-string para incluir los valores de las variables `largo`, `ancho` y `semillas` en el mensaje de salida.\n",
        "\n",
        "**Corrección necesaria:** La línea 9 debe ajustarse para convertir el área de metros cuadrados a hectáreas antes de multiplicarla por la densidad."
      ]
    }
  ]
}